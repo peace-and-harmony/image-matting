{
  "nbformat": 4,
  "nbformat_minor": 0,
  "metadata": {
    "colab": {
      "name": "modnet_demo_benchmark.ipynb",
      "provenance": [],
      "collapsed_sections": [],
      "include_colab_link": true
    },
    "kernelspec": {
      "display_name": "Python 3",
      "name": "python3"
    },
    "language_info": {
      "name": "python"
    },
    "widgets": {
      "application/vnd.jupyter.widget-state+json": {
        "3c35a23d6cc04883b23c488d2c848719": {
          "model_module": "@jupyter-widgets/controls",
          "model_name": "HBoxModel",
          "model_module_version": "1.5.0",
          "state": {
            "_view_name": "HBoxView",
            "_dom_classes": [],
            "_model_name": "HBoxModel",
            "_view_module": "@jupyter-widgets/controls",
            "_model_module_version": "1.5.0",
            "_view_count": null,
            "_view_module_version": "1.5.0",
            "box_style": "",
            "layout": "IPY_MODEL_9f29f9c2cca24beda5c53364c1d3f8b5",
            "_model_module": "@jupyter-widgets/controls",
            "children": [
              "IPY_MODEL_0a6f0a08278c4f01a6de886e35aa8480",
              "IPY_MODEL_9ca79774ec1f4bfbb002abb56d8cd930",
              "IPY_MODEL_668dce15f09f4f308b709ebb35970f0d"
            ]
          }
        },
        "9f29f9c2cca24beda5c53364c1d3f8b5": {
          "model_module": "@jupyter-widgets/base",
          "model_name": "LayoutModel",
          "model_module_version": "1.2.0",
          "state": {
            "_view_name": "LayoutView",
            "grid_template_rows": null,
            "right": null,
            "justify_content": null,
            "_view_module": "@jupyter-widgets/base",
            "overflow": null,
            "_model_module_version": "1.2.0",
            "_view_count": null,
            "flex_flow": null,
            "width": null,
            "min_width": null,
            "border": null,
            "align_items": null,
            "bottom": null,
            "_model_module": "@jupyter-widgets/base",
            "top": null,
            "grid_column": null,
            "overflow_y": null,
            "overflow_x": null,
            "grid_auto_flow": null,
            "grid_area": null,
            "grid_template_columns": null,
            "flex": null,
            "_model_name": "LayoutModel",
            "justify_items": null,
            "grid_row": null,
            "max_height": null,
            "align_content": null,
            "visibility": null,
            "align_self": null,
            "height": null,
            "min_height": null,
            "padding": null,
            "grid_auto_rows": null,
            "grid_gap": null,
            "max_width": null,
            "order": null,
            "_view_module_version": "1.2.0",
            "grid_template_areas": null,
            "object_position": null,
            "object_fit": null,
            "grid_auto_columns": null,
            "margin": null,
            "display": null,
            "left": null
          }
        },
        "0a6f0a08278c4f01a6de886e35aa8480": {
          "model_module": "@jupyter-widgets/controls",
          "model_name": "HTMLModel",
          "model_module_version": "1.5.0",
          "state": {
            "_view_name": "HTMLView",
            "style": "IPY_MODEL_70f66e49e7694f24beb672db19039247",
            "_dom_classes": [],
            "description": "",
            "_model_name": "HTMLModel",
            "placeholder": "​",
            "_view_module": "@jupyter-widgets/controls",
            "_model_module_version": "1.5.0",
            "value": "100%",
            "_view_count": null,
            "_view_module_version": "1.5.0",
            "description_tooltip": null,
            "_model_module": "@jupyter-widgets/controls",
            "layout": "IPY_MODEL_314e77f722b44ab7afcd1eeefdadf04b"
          }
        },
        "9ca79774ec1f4bfbb002abb56d8cd930": {
          "model_module": "@jupyter-widgets/controls",
          "model_name": "FloatProgressModel",
          "model_module_version": "1.5.0",
          "state": {
            "_view_name": "ProgressView",
            "style": "IPY_MODEL_c081c29c831d4ef69ce95510d2ad450a",
            "_dom_classes": [],
            "description": "",
            "_model_name": "FloatProgressModel",
            "bar_style": "success",
            "max": 50,
            "_view_module": "@jupyter-widgets/controls",
            "_model_module_version": "1.5.0",
            "value": 50,
            "_view_count": null,
            "_view_module_version": "1.5.0",
            "orientation": "horizontal",
            "min": 0,
            "description_tooltip": null,
            "_model_module": "@jupyter-widgets/controls",
            "layout": "IPY_MODEL_acc095c11b2a4bc396f6f3ff8947575e"
          }
        },
        "668dce15f09f4f308b709ebb35970f0d": {
          "model_module": "@jupyter-widgets/controls",
          "model_name": "HTMLModel",
          "model_module_version": "1.5.0",
          "state": {
            "_view_name": "HTMLView",
            "style": "IPY_MODEL_7e7b8192fcee46c9b024cb60e1294bba",
            "_dom_classes": [],
            "description": "",
            "_model_name": "HTMLModel",
            "placeholder": "​",
            "_view_module": "@jupyter-widgets/controls",
            "_model_module_version": "1.5.0",
            "value": " 50/50 [00:52&lt;00:00,  1.07s/it]",
            "_view_count": null,
            "_view_module_version": "1.5.0",
            "description_tooltip": null,
            "_model_module": "@jupyter-widgets/controls",
            "layout": "IPY_MODEL_f5c6c9c2ba20456fa8b901300406b12e"
          }
        },
        "70f66e49e7694f24beb672db19039247": {
          "model_module": "@jupyter-widgets/controls",
          "model_name": "DescriptionStyleModel",
          "model_module_version": "1.5.0",
          "state": {
            "_view_name": "StyleView",
            "_model_name": "DescriptionStyleModel",
            "description_width": "",
            "_view_module": "@jupyter-widgets/base",
            "_model_module_version": "1.5.0",
            "_view_count": null,
            "_view_module_version": "1.2.0",
            "_model_module": "@jupyter-widgets/controls"
          }
        },
        "314e77f722b44ab7afcd1eeefdadf04b": {
          "model_module": "@jupyter-widgets/base",
          "model_name": "LayoutModel",
          "model_module_version": "1.2.0",
          "state": {
            "_view_name": "LayoutView",
            "grid_template_rows": null,
            "right": null,
            "justify_content": null,
            "_view_module": "@jupyter-widgets/base",
            "overflow": null,
            "_model_module_version": "1.2.0",
            "_view_count": null,
            "flex_flow": null,
            "width": null,
            "min_width": null,
            "border": null,
            "align_items": null,
            "bottom": null,
            "_model_module": "@jupyter-widgets/base",
            "top": null,
            "grid_column": null,
            "overflow_y": null,
            "overflow_x": null,
            "grid_auto_flow": null,
            "grid_area": null,
            "grid_template_columns": null,
            "flex": null,
            "_model_name": "LayoutModel",
            "justify_items": null,
            "grid_row": null,
            "max_height": null,
            "align_content": null,
            "visibility": null,
            "align_self": null,
            "height": null,
            "min_height": null,
            "padding": null,
            "grid_auto_rows": null,
            "grid_gap": null,
            "max_width": null,
            "order": null,
            "_view_module_version": "1.2.0",
            "grid_template_areas": null,
            "object_position": null,
            "object_fit": null,
            "grid_auto_columns": null,
            "margin": null,
            "display": null,
            "left": null
          }
        },
        "c081c29c831d4ef69ce95510d2ad450a": {
          "model_module": "@jupyter-widgets/controls",
          "model_name": "ProgressStyleModel",
          "model_module_version": "1.5.0",
          "state": {
            "_view_name": "StyleView",
            "_model_name": "ProgressStyleModel",
            "description_width": "",
            "_view_module": "@jupyter-widgets/base",
            "_model_module_version": "1.5.0",
            "_view_count": null,
            "_view_module_version": "1.2.0",
            "bar_color": null,
            "_model_module": "@jupyter-widgets/controls"
          }
        },
        "acc095c11b2a4bc396f6f3ff8947575e": {
          "model_module": "@jupyter-widgets/base",
          "model_name": "LayoutModel",
          "model_module_version": "1.2.0",
          "state": {
            "_view_name": "LayoutView",
            "grid_template_rows": null,
            "right": null,
            "justify_content": null,
            "_view_module": "@jupyter-widgets/base",
            "overflow": null,
            "_model_module_version": "1.2.0",
            "_view_count": null,
            "flex_flow": null,
            "width": null,
            "min_width": null,
            "border": null,
            "align_items": null,
            "bottom": null,
            "_model_module": "@jupyter-widgets/base",
            "top": null,
            "grid_column": null,
            "overflow_y": null,
            "overflow_x": null,
            "grid_auto_flow": null,
            "grid_area": null,
            "grid_template_columns": null,
            "flex": null,
            "_model_name": "LayoutModel",
            "justify_items": null,
            "grid_row": null,
            "max_height": null,
            "align_content": null,
            "visibility": null,
            "align_self": null,
            "height": null,
            "min_height": null,
            "padding": null,
            "grid_auto_rows": null,
            "grid_gap": null,
            "max_width": null,
            "order": null,
            "_view_module_version": "1.2.0",
            "grid_template_areas": null,
            "object_position": null,
            "object_fit": null,
            "grid_auto_columns": null,
            "margin": null,
            "display": null,
            "left": null
          }
        },
        "7e7b8192fcee46c9b024cb60e1294bba": {
          "model_module": "@jupyter-widgets/controls",
          "model_name": "DescriptionStyleModel",
          "model_module_version": "1.5.0",
          "state": {
            "_view_name": "StyleView",
            "_model_name": "DescriptionStyleModel",
            "description_width": "",
            "_view_module": "@jupyter-widgets/base",
            "_model_module_version": "1.5.0",
            "_view_count": null,
            "_view_module_version": "1.2.0",
            "_model_module": "@jupyter-widgets/controls"
          }
        },
        "f5c6c9c2ba20456fa8b901300406b12e": {
          "model_module": "@jupyter-widgets/base",
          "model_name": "LayoutModel",
          "model_module_version": "1.2.0",
          "state": {
            "_view_name": "LayoutView",
            "grid_template_rows": null,
            "right": null,
            "justify_content": null,
            "_view_module": "@jupyter-widgets/base",
            "overflow": null,
            "_model_module_version": "1.2.0",
            "_view_count": null,
            "flex_flow": null,
            "width": null,
            "min_width": null,
            "border": null,
            "align_items": null,
            "bottom": null,
            "_model_module": "@jupyter-widgets/base",
            "top": null,
            "grid_column": null,
            "overflow_y": null,
            "overflow_x": null,
            "grid_auto_flow": null,
            "grid_area": null,
            "grid_template_columns": null,
            "flex": null,
            "_model_name": "LayoutModel",
            "justify_items": null,
            "grid_row": null,
            "max_height": null,
            "align_content": null,
            "visibility": null,
            "align_self": null,
            "height": null,
            "min_height": null,
            "padding": null,
            "grid_auto_rows": null,
            "grid_gap": null,
            "max_width": null,
            "order": null,
            "_view_module_version": "1.2.0",
            "grid_template_areas": null,
            "object_position": null,
            "object_fit": null,
            "grid_auto_columns": null,
            "margin": null,
            "display": null,
            "left": null
          }
        },
        "49545564697f4a148b56769eafb13b30": {
          "model_module": "@jupyter-widgets/controls",
          "model_name": "HBoxModel",
          "model_module_version": "1.5.0",
          "state": {
            "_view_name": "HBoxView",
            "_dom_classes": [],
            "_model_name": "HBoxModel",
            "_view_module": "@jupyter-widgets/controls",
            "_model_module_version": "1.5.0",
            "_view_count": null,
            "_view_module_version": "1.5.0",
            "box_style": "",
            "layout": "IPY_MODEL_932e4c5e3aee4af1b50e147f1bdb3e56",
            "_model_module": "@jupyter-widgets/controls",
            "children": [
              "IPY_MODEL_fa95547276644496b7d856397509017c",
              "IPY_MODEL_ef0e0d49f928430bafc2686432d3420d",
              "IPY_MODEL_d9c6c95e0a3545c09423e10258d9cc76"
            ]
          }
        },
        "932e4c5e3aee4af1b50e147f1bdb3e56": {
          "model_module": "@jupyter-widgets/base",
          "model_name": "LayoutModel",
          "model_module_version": "1.2.0",
          "state": {
            "_view_name": "LayoutView",
            "grid_template_rows": null,
            "right": null,
            "justify_content": null,
            "_view_module": "@jupyter-widgets/base",
            "overflow": null,
            "_model_module_version": "1.2.0",
            "_view_count": null,
            "flex_flow": null,
            "width": null,
            "min_width": null,
            "border": null,
            "align_items": null,
            "bottom": null,
            "_model_module": "@jupyter-widgets/base",
            "top": null,
            "grid_column": null,
            "overflow_y": null,
            "overflow_x": null,
            "grid_auto_flow": null,
            "grid_area": null,
            "grid_template_columns": null,
            "flex": null,
            "_model_name": "LayoutModel",
            "justify_items": null,
            "grid_row": null,
            "max_height": null,
            "align_content": null,
            "visibility": null,
            "align_self": null,
            "height": null,
            "min_height": null,
            "padding": null,
            "grid_auto_rows": null,
            "grid_gap": null,
            "max_width": null,
            "order": null,
            "_view_module_version": "1.2.0",
            "grid_template_areas": null,
            "object_position": null,
            "object_fit": null,
            "grid_auto_columns": null,
            "margin": null,
            "display": null,
            "left": null
          }
        },
        "fa95547276644496b7d856397509017c": {
          "model_module": "@jupyter-widgets/controls",
          "model_name": "HTMLModel",
          "model_module_version": "1.5.0",
          "state": {
            "_view_name": "HTMLView",
            "style": "IPY_MODEL_2eba6ef8d364498b8fed17abb043166e",
            "_dom_classes": [],
            "description": "",
            "_model_name": "HTMLModel",
            "placeholder": "​",
            "_view_module": "@jupyter-widgets/controls",
            "_model_module_version": "1.5.0",
            "value": "100%",
            "_view_count": null,
            "_view_module_version": "1.5.0",
            "description_tooltip": null,
            "_model_module": "@jupyter-widgets/controls",
            "layout": "IPY_MODEL_9968709d72894768b46747200d6280de"
          }
        },
        "ef0e0d49f928430bafc2686432d3420d": {
          "model_module": "@jupyter-widgets/controls",
          "model_name": "FloatProgressModel",
          "model_module_version": "1.5.0",
          "state": {
            "_view_name": "ProgressView",
            "style": "IPY_MODEL_833af376521a4eba927b2b2289074240",
            "_dom_classes": [],
            "description": "",
            "_model_name": "FloatProgressModel",
            "bar_style": "success",
            "max": 50,
            "_view_module": "@jupyter-widgets/controls",
            "_model_module_version": "1.5.0",
            "value": 50,
            "_view_count": null,
            "_view_module_version": "1.5.0",
            "orientation": "horizontal",
            "min": 0,
            "description_tooltip": null,
            "_model_module": "@jupyter-widgets/controls",
            "layout": "IPY_MODEL_eeed8f44daa44c1d8735a2547209a1e0"
          }
        },
        "d9c6c95e0a3545c09423e10258d9cc76": {
          "model_module": "@jupyter-widgets/controls",
          "model_name": "HTMLModel",
          "model_module_version": "1.5.0",
          "state": {
            "_view_name": "HTMLView",
            "style": "IPY_MODEL_c72dc453cf8f4488997a690bd494bb7a",
            "_dom_classes": [],
            "description": "",
            "_model_name": "HTMLModel",
            "placeholder": "​",
            "_view_module": "@jupyter-widgets/controls",
            "_model_module_version": "1.5.0",
            "value": " 50/50 [01:14&lt;00:00,  1.48s/it]",
            "_view_count": null,
            "_view_module_version": "1.5.0",
            "description_tooltip": null,
            "_model_module": "@jupyter-widgets/controls",
            "layout": "IPY_MODEL_8d0c3e62698a4e7ca71a581c427b0ed5"
          }
        },
        "2eba6ef8d364498b8fed17abb043166e": {
          "model_module": "@jupyter-widgets/controls",
          "model_name": "DescriptionStyleModel",
          "model_module_version": "1.5.0",
          "state": {
            "_view_name": "StyleView",
            "_model_name": "DescriptionStyleModel",
            "description_width": "",
            "_view_module": "@jupyter-widgets/base",
            "_model_module_version": "1.5.0",
            "_view_count": null,
            "_view_module_version": "1.2.0",
            "_model_module": "@jupyter-widgets/controls"
          }
        },
        "9968709d72894768b46747200d6280de": {
          "model_module": "@jupyter-widgets/base",
          "model_name": "LayoutModel",
          "model_module_version": "1.2.0",
          "state": {
            "_view_name": "LayoutView",
            "grid_template_rows": null,
            "right": null,
            "justify_content": null,
            "_view_module": "@jupyter-widgets/base",
            "overflow": null,
            "_model_module_version": "1.2.0",
            "_view_count": null,
            "flex_flow": null,
            "width": null,
            "min_width": null,
            "border": null,
            "align_items": null,
            "bottom": null,
            "_model_module": "@jupyter-widgets/base",
            "top": null,
            "grid_column": null,
            "overflow_y": null,
            "overflow_x": null,
            "grid_auto_flow": null,
            "grid_area": null,
            "grid_template_columns": null,
            "flex": null,
            "_model_name": "LayoutModel",
            "justify_items": null,
            "grid_row": null,
            "max_height": null,
            "align_content": null,
            "visibility": null,
            "align_self": null,
            "height": null,
            "min_height": null,
            "padding": null,
            "grid_auto_rows": null,
            "grid_gap": null,
            "max_width": null,
            "order": null,
            "_view_module_version": "1.2.0",
            "grid_template_areas": null,
            "object_position": null,
            "object_fit": null,
            "grid_auto_columns": null,
            "margin": null,
            "display": null,
            "left": null
          }
        },
        "833af376521a4eba927b2b2289074240": {
          "model_module": "@jupyter-widgets/controls",
          "model_name": "ProgressStyleModel",
          "model_module_version": "1.5.0",
          "state": {
            "_view_name": "StyleView",
            "_model_name": "ProgressStyleModel",
            "description_width": "",
            "_view_module": "@jupyter-widgets/base",
            "_model_module_version": "1.5.0",
            "_view_count": null,
            "_view_module_version": "1.2.0",
            "bar_color": null,
            "_model_module": "@jupyter-widgets/controls"
          }
        },
        "eeed8f44daa44c1d8735a2547209a1e0": {
          "model_module": "@jupyter-widgets/base",
          "model_name": "LayoutModel",
          "model_module_version": "1.2.0",
          "state": {
            "_view_name": "LayoutView",
            "grid_template_rows": null,
            "right": null,
            "justify_content": null,
            "_view_module": "@jupyter-widgets/base",
            "overflow": null,
            "_model_module_version": "1.2.0",
            "_view_count": null,
            "flex_flow": null,
            "width": null,
            "min_width": null,
            "border": null,
            "align_items": null,
            "bottom": null,
            "_model_module": "@jupyter-widgets/base",
            "top": null,
            "grid_column": null,
            "overflow_y": null,
            "overflow_x": null,
            "grid_auto_flow": null,
            "grid_area": null,
            "grid_template_columns": null,
            "flex": null,
            "_model_name": "LayoutModel",
            "justify_items": null,
            "grid_row": null,
            "max_height": null,
            "align_content": null,
            "visibility": null,
            "align_self": null,
            "height": null,
            "min_height": null,
            "padding": null,
            "grid_auto_rows": null,
            "grid_gap": null,
            "max_width": null,
            "order": null,
            "_view_module_version": "1.2.0",
            "grid_template_areas": null,
            "object_position": null,
            "object_fit": null,
            "grid_auto_columns": null,
            "margin": null,
            "display": null,
            "left": null
          }
        },
        "c72dc453cf8f4488997a690bd494bb7a": {
          "model_module": "@jupyter-widgets/controls",
          "model_name": "DescriptionStyleModel",
          "model_module_version": "1.5.0",
          "state": {
            "_view_name": "StyleView",
            "_model_name": "DescriptionStyleModel",
            "description_width": "",
            "_view_module": "@jupyter-widgets/base",
            "_model_module_version": "1.5.0",
            "_view_count": null,
            "_view_module_version": "1.2.0",
            "_model_module": "@jupyter-widgets/controls"
          }
        },
        "8d0c3e62698a4e7ca71a581c427b0ed5": {
          "model_module": "@jupyter-widgets/base",
          "model_name": "LayoutModel",
          "model_module_version": "1.2.0",
          "state": {
            "_view_name": "LayoutView",
            "grid_template_rows": null,
            "right": null,
            "justify_content": null,
            "_view_module": "@jupyter-widgets/base",
            "overflow": null,
            "_model_module_version": "1.2.0",
            "_view_count": null,
            "flex_flow": null,
            "width": null,
            "min_width": null,
            "border": null,
            "align_items": null,
            "bottom": null,
            "_model_module": "@jupyter-widgets/base",
            "top": null,
            "grid_column": null,
            "overflow_y": null,
            "overflow_x": null,
            "grid_auto_flow": null,
            "grid_area": null,
            "grid_template_columns": null,
            "flex": null,
            "_model_name": "LayoutModel",
            "justify_items": null,
            "grid_row": null,
            "max_height": null,
            "align_content": null,
            "visibility": null,
            "align_self": null,
            "height": null,
            "min_height": null,
            "padding": null,
            "grid_auto_rows": null,
            "grid_gap": null,
            "max_width": null,
            "order": null,
            "_view_module_version": "1.2.0",
            "grid_template_areas": null,
            "object_position": null,
            "object_fit": null,
            "grid_auto_columns": null,
            "margin": null,
            "display": null,
            "left": null
          }
        },
        "b427fb973ecc4fe283a54e51f739f02a": {
          "model_module": "@jupyter-widgets/controls",
          "model_name": "HBoxModel",
          "model_module_version": "1.5.0",
          "state": {
            "_view_name": "HBoxView",
            "_dom_classes": [],
            "_model_name": "HBoxModel",
            "_view_module": "@jupyter-widgets/controls",
            "_model_module_version": "1.5.0",
            "_view_count": null,
            "_view_module_version": "1.5.0",
            "box_style": "",
            "layout": "IPY_MODEL_bb53692044494e2f9205aef29ed41471",
            "_model_module": "@jupyter-widgets/controls",
            "children": [
              "IPY_MODEL_77804f1d1dac44318f845eaaaea02f7d",
              "IPY_MODEL_430e11d253d04480bab3155d7f1a28b8",
              "IPY_MODEL_5be0106a12d1442faa34752fae511830"
            ]
          }
        },
        "bb53692044494e2f9205aef29ed41471": {
          "model_module": "@jupyter-widgets/base",
          "model_name": "LayoutModel",
          "model_module_version": "1.2.0",
          "state": {
            "_view_name": "LayoutView",
            "grid_template_rows": null,
            "right": null,
            "justify_content": null,
            "_view_module": "@jupyter-widgets/base",
            "overflow": null,
            "_model_module_version": "1.2.0",
            "_view_count": null,
            "flex_flow": null,
            "width": null,
            "min_width": null,
            "border": null,
            "align_items": null,
            "bottom": null,
            "_model_module": "@jupyter-widgets/base",
            "top": null,
            "grid_column": null,
            "overflow_y": null,
            "overflow_x": null,
            "grid_auto_flow": null,
            "grid_area": null,
            "grid_template_columns": null,
            "flex": null,
            "_model_name": "LayoutModel",
            "justify_items": null,
            "grid_row": null,
            "max_height": null,
            "align_content": null,
            "visibility": null,
            "align_self": null,
            "height": null,
            "min_height": null,
            "padding": null,
            "grid_auto_rows": null,
            "grid_gap": null,
            "max_width": null,
            "order": null,
            "_view_module_version": "1.2.0",
            "grid_template_areas": null,
            "object_position": null,
            "object_fit": null,
            "grid_auto_columns": null,
            "margin": null,
            "display": null,
            "left": null
          }
        },
        "77804f1d1dac44318f845eaaaea02f7d": {
          "model_module": "@jupyter-widgets/controls",
          "model_name": "HTMLModel",
          "model_module_version": "1.5.0",
          "state": {
            "_view_name": "HTMLView",
            "style": "IPY_MODEL_adc54b2251d346ed8dcca7325870f94b",
            "_dom_classes": [],
            "description": "",
            "_model_name": "HTMLModel",
            "placeholder": "​",
            "_view_module": "@jupyter-widgets/controls",
            "_model_module_version": "1.5.0",
            "value": "100%",
            "_view_count": null,
            "_view_module_version": "1.5.0",
            "description_tooltip": null,
            "_model_module": "@jupyter-widgets/controls",
            "layout": "IPY_MODEL_b2ee405e7a90400fbd686286c9597e1c"
          }
        },
        "430e11d253d04480bab3155d7f1a28b8": {
          "model_module": "@jupyter-widgets/controls",
          "model_name": "FloatProgressModel",
          "model_module_version": "1.5.0",
          "state": {
            "_view_name": "ProgressView",
            "style": "IPY_MODEL_3ae4317066624afd806a40af55e52761",
            "_dom_classes": [],
            "description": "",
            "_model_name": "FloatProgressModel",
            "bar_style": "success",
            "max": 50,
            "_view_module": "@jupyter-widgets/controls",
            "_model_module_version": "1.5.0",
            "value": 50,
            "_view_count": null,
            "_view_module_version": "1.5.0",
            "orientation": "horizontal",
            "min": 0,
            "description_tooltip": null,
            "_model_module": "@jupyter-widgets/controls",
            "layout": "IPY_MODEL_fa37aae7600a4bca81a607b4643d9008"
          }
        },
        "5be0106a12d1442faa34752fae511830": {
          "model_module": "@jupyter-widgets/controls",
          "model_name": "HTMLModel",
          "model_module_version": "1.5.0",
          "state": {
            "_view_name": "HTMLView",
            "style": "IPY_MODEL_f71ae687c786437fba0f1d9c47f7d0b8",
            "_dom_classes": [],
            "description": "",
            "_model_name": "HTMLModel",
            "placeholder": "​",
            "_view_module": "@jupyter-widgets/controls",
            "_model_module_version": "1.5.0",
            "value": " 50/50 [00:54&lt;00:00,  1.08s/it]",
            "_view_count": null,
            "_view_module_version": "1.5.0",
            "description_tooltip": null,
            "_model_module": "@jupyter-widgets/controls",
            "layout": "IPY_MODEL_6b3c53a243984413820259a7d80e6883"
          }
        },
        "adc54b2251d346ed8dcca7325870f94b": {
          "model_module": "@jupyter-widgets/controls",
          "model_name": "DescriptionStyleModel",
          "model_module_version": "1.5.0",
          "state": {
            "_view_name": "StyleView",
            "_model_name": "DescriptionStyleModel",
            "description_width": "",
            "_view_module": "@jupyter-widgets/base",
            "_model_module_version": "1.5.0",
            "_view_count": null,
            "_view_module_version": "1.2.0",
            "_model_module": "@jupyter-widgets/controls"
          }
        },
        "b2ee405e7a90400fbd686286c9597e1c": {
          "model_module": "@jupyter-widgets/base",
          "model_name": "LayoutModel",
          "model_module_version": "1.2.0",
          "state": {
            "_view_name": "LayoutView",
            "grid_template_rows": null,
            "right": null,
            "justify_content": null,
            "_view_module": "@jupyter-widgets/base",
            "overflow": null,
            "_model_module_version": "1.2.0",
            "_view_count": null,
            "flex_flow": null,
            "width": null,
            "min_width": null,
            "border": null,
            "align_items": null,
            "bottom": null,
            "_model_module": "@jupyter-widgets/base",
            "top": null,
            "grid_column": null,
            "overflow_y": null,
            "overflow_x": null,
            "grid_auto_flow": null,
            "grid_area": null,
            "grid_template_columns": null,
            "flex": null,
            "_model_name": "LayoutModel",
            "justify_items": null,
            "grid_row": null,
            "max_height": null,
            "align_content": null,
            "visibility": null,
            "align_self": null,
            "height": null,
            "min_height": null,
            "padding": null,
            "grid_auto_rows": null,
            "grid_gap": null,
            "max_width": null,
            "order": null,
            "_view_module_version": "1.2.0",
            "grid_template_areas": null,
            "object_position": null,
            "object_fit": null,
            "grid_auto_columns": null,
            "margin": null,
            "display": null,
            "left": null
          }
        },
        "3ae4317066624afd806a40af55e52761": {
          "model_module": "@jupyter-widgets/controls",
          "model_name": "ProgressStyleModel",
          "model_module_version": "1.5.0",
          "state": {
            "_view_name": "StyleView",
            "_model_name": "ProgressStyleModel",
            "description_width": "",
            "_view_module": "@jupyter-widgets/base",
            "_model_module_version": "1.5.0",
            "_view_count": null,
            "_view_module_version": "1.2.0",
            "bar_color": null,
            "_model_module": "@jupyter-widgets/controls"
          }
        },
        "fa37aae7600a4bca81a607b4643d9008": {
          "model_module": "@jupyter-widgets/base",
          "model_name": "LayoutModel",
          "model_module_version": "1.2.0",
          "state": {
            "_view_name": "LayoutView",
            "grid_template_rows": null,
            "right": null,
            "justify_content": null,
            "_view_module": "@jupyter-widgets/base",
            "overflow": null,
            "_model_module_version": "1.2.0",
            "_view_count": null,
            "flex_flow": null,
            "width": null,
            "min_width": null,
            "border": null,
            "align_items": null,
            "bottom": null,
            "_model_module": "@jupyter-widgets/base",
            "top": null,
            "grid_column": null,
            "overflow_y": null,
            "overflow_x": null,
            "grid_auto_flow": null,
            "grid_area": null,
            "grid_template_columns": null,
            "flex": null,
            "_model_name": "LayoutModel",
            "justify_items": null,
            "grid_row": null,
            "max_height": null,
            "align_content": null,
            "visibility": null,
            "align_self": null,
            "height": null,
            "min_height": null,
            "padding": null,
            "grid_auto_rows": null,
            "grid_gap": null,
            "max_width": null,
            "order": null,
            "_view_module_version": "1.2.0",
            "grid_template_areas": null,
            "object_position": null,
            "object_fit": null,
            "grid_auto_columns": null,
            "margin": null,
            "display": null,
            "left": null
          }
        },
        "f71ae687c786437fba0f1d9c47f7d0b8": {
          "model_module": "@jupyter-widgets/controls",
          "model_name": "DescriptionStyleModel",
          "model_module_version": "1.5.0",
          "state": {
            "_view_name": "StyleView",
            "_model_name": "DescriptionStyleModel",
            "description_width": "",
            "_view_module": "@jupyter-widgets/base",
            "_model_module_version": "1.5.0",
            "_view_count": null,
            "_view_module_version": "1.2.0",
            "_model_module": "@jupyter-widgets/controls"
          }
        },
        "6b3c53a243984413820259a7d80e6883": {
          "model_module": "@jupyter-widgets/base",
          "model_name": "LayoutModel",
          "model_module_version": "1.2.0",
          "state": {
            "_view_name": "LayoutView",
            "grid_template_rows": null,
            "right": null,
            "justify_content": null,
            "_view_module": "@jupyter-widgets/base",
            "overflow": null,
            "_model_module_version": "1.2.0",
            "_view_count": null,
            "flex_flow": null,
            "width": null,
            "min_width": null,
            "border": null,
            "align_items": null,
            "bottom": null,
            "_model_module": "@jupyter-widgets/base",
            "top": null,
            "grid_column": null,
            "overflow_y": null,
            "overflow_x": null,
            "grid_auto_flow": null,
            "grid_area": null,
            "grid_template_columns": null,
            "flex": null,
            "_model_name": "LayoutModel",
            "justify_items": null,
            "grid_row": null,
            "max_height": null,
            "align_content": null,
            "visibility": null,
            "align_self": null,
            "height": null,
            "min_height": null,
            "padding": null,
            "grid_auto_rows": null,
            "grid_gap": null,
            "max_width": null,
            "order": null,
            "_view_module_version": "1.2.0",
            "grid_template_areas": null,
            "object_position": null,
            "object_fit": null,
            "grid_auto_columns": null,
            "margin": null,
            "display": null,
            "left": null
          }
        }
      }
    }
  },
  "cells": [
    {
      "cell_type": "markdown",
      "metadata": {
        "id": "view-in-github",
        "colab_type": "text"
      },
      "source": [
        "<a href=\"https://colab.research.google.com/github/peace-and-harmony/image-matting/blob/main/notebooks/modnet_demo_benchmark.ipynb\" target=\"_parent\"><img src=\"https://colab.research.google.com/assets/colab-badge.svg\" alt=\"Open In Colab\"/></a>"
      ]
    },
    {
      "cell_type": "markdown",
      "metadata": {
        "id": "FVcftw0vkMpp"
      },
      "source": [
        "# MODNet benchmark demo\n",
        "\n",
        "In this demo, the differece between Pytorch and ONNX runtime is compared.\n",
        "\n",
        "**Note** Use Runtime: CPU as base of the benchmark\n",
        "- Runtime -> Change runtime type -> Hardware accelerator -> None\n",
        "\n",
        " ---\n",
        "\n",
        "The model type and inference runtime are listed in the Table:\n",
        "\n",
        "Model name  | Inference type | Runtime per image (ms)\n",
        "-------------------|------------------|-----------------\n",
        "checkpoint.pth       | Pytorch  | 1208.5716\n",
        "checkpoint.onnx       | ONNX runtime    | 834.5359 \n",
        "checkpoint-simplified.onnx       | ONNX runtime     | 824.7673\n",
        "\n",
        "---"
      ]
    },
    {
      "cell_type": "code",
      "metadata": {
        "colab": {
          "base_uri": "https://localhost:8080/"
        },
        "id": "BBYiSxafAUX9",
        "outputId": "7fa0329c-7361-413e-8bee-0e92f4a9dbe7"
      },
      "source": [
        "from google.colab import drive\n",
        "drive.mount('/content/drive', force_remount=True)"
      ],
      "execution_count": null,
      "outputs": [
        {
          "output_type": "stream",
          "name": "stdout",
          "text": [
            "Mounted at /content/drive\n"
          ]
        }
      ]
    },
    {
      "cell_type": "markdown",
      "metadata": {
        "id": "LPoFHWr9H1YA"
      },
      "source": [
        "## Load the test dataset for inference runtime benchmark"
      ]
    },
    {
      "cell_type": "code",
      "metadata": {
        "id": "xA3oJs-KdesI"
      },
      "source": [
        "%cd /content\n",
        "!ls /content/drive/MyDrive/Cropper\n",
        "!cp /content/drive/MyDrive/Cropper/cropper_validation.zip /content\n",
        "!unzip cropper_validation.zip"
      ],
      "execution_count": null,
      "outputs": []
    },
    {
      "cell_type": "code",
      "metadata": {
        "colab": {
          "base_uri": "https://localhost:8080/"
        },
        "id": "iPD0WZUgd2Gl",
        "outputId": "ea6d4ab8-59e1-47cb-b7b5-35b5052f87af"
      },
      "source": [
        "%cd /content/valid_validation\n",
        "!mkdir test_run\n",
        "!cp -r image test_run"
      ],
      "execution_count": null,
      "outputs": [
        {
          "output_type": "stream",
          "name": "stdout",
          "text": [
            "/content/valid_validation\n"
          ]
        }
      ]
    },
    {
      "cell_type": "code",
      "metadata": {
        "colab": {
          "base_uri": "https://localhost:8080/"
        },
        "id": "fcFoyvUbaYJi",
        "outputId": "a0cbb0c5-a20e-4efa-ecc8-71815c0af01a"
      },
      "source": [
        "import glob\n",
        "len(glob.glob('/content/valid_validation/mask/*.jpeg'))"
      ],
      "execution_count": null,
      "outputs": [
        {
          "output_type": "execute_result",
          "data": {
            "text/plain": [
              "1127"
            ]
          },
          "metadata": {},
          "execution_count": 5
        }
      ]
    },
    {
      "cell_type": "markdown",
      "metadata": {
        "id": "s50xkUCNrVtz"
      },
      "source": [
        "## Clone MODNet repository"
      ]
    },
    {
      "cell_type": "code",
      "metadata": {
        "colab": {
          "base_uri": "https://localhost:8080/"
        },
        "id": "QbWLbz7xd2BY",
        "outputId": "950f84bd-70b4-4c0a-96c5-585f7af3ff36"
      },
      "source": [
        "%cd /content\n",
        "!git clone https://github.com/ZHKKKe/MODNet.git"
      ],
      "execution_count": null,
      "outputs": [
        {
          "output_type": "stream",
          "name": "stdout",
          "text": [
            "/content\n",
            "Cloning into 'MODNet'...\n",
            "remote: Enumerating objects: 249, done.\u001b[K\n",
            "remote: Counting objects: 100% (43/43), done.\u001b[K\n",
            "remote: Compressing objects: 100% (32/32), done.\u001b[K\n",
            "remote: Total 249 (delta 21), reused 24 (delta 9), pack-reused 206\u001b[K\n",
            "Receiving objects: 100% (249/249), 60.76 MiB | 32.56 MiB/s, done.\n",
            "Resolving deltas: 100% (82/82), done.\n"
          ]
        }
      ]
    },
    {
      "cell_type": "code",
      "metadata": {
        "colab": {
          "base_uri": "https://localhost:8080/"
        },
        "id": "ComBq9XvUF44",
        "outputId": "80b4587c-de8b-4665-db6c-3b9db2411273"
      },
      "source": [
        "import os\n",
        "# dowload the pre-trained checkpoint.pth for image matting\n",
        "pretrained_pth = '/content/MODNet/pretrained/checkpoint.pth'\n",
        "if not os.path.exists(pretrained_pth):\n",
        "  !gdown --id 1-5PaqUxnZdJil9tKETllhVE6T9uH1O36 \\\n",
        "          -O /content/MODNet/pretrained/checkpoint.pth"
      ],
      "execution_count": null,
      "outputs": [
        {
          "output_type": "stream",
          "name": "stdout",
          "text": [
            "Downloading...\n",
            "From: https://drive.google.com/uc?id=1-5PaqUxnZdJil9tKETllhVE6T9uH1O36\n",
            "To: /content/MODNet/pretrained/checkpoint.pth\n",
            "52.3MB [00:00, 143MB/s]\n"
          ]
        }
      ]
    },
    {
      "cell_type": "markdown",
      "metadata": {
        "id": "UVJhJ0xn_Lb1"
      },
      "source": [
        "## Generate .onnx\n"
      ]
    },
    {
      "cell_type": "markdown",
      "metadata": {
        "id": "SYHe2Pfrqp8z"
      },
      "source": [
        "### install the requirements for converting MODNet pretrained model to .onnx format"
      ]
    },
    {
      "cell_type": "code",
      "metadata": {
        "id": "xN4qhpiAtt_2"
      },
      "source": [
        "%cd /content/MODNet\n",
        "!pip install -r onnx/requirements.txt"
      ],
      "execution_count": null,
      "outputs": []
    },
    {
      "cell_type": "markdown",
      "metadata": {
        "id": "5PTri6c92T5k"
      },
      "source": [
        "### Export to cpu-based .onnx"
      ]
    },
    {
      "cell_type": "code",
      "metadata": {
        "id": "NsPm-aBahFZL",
        "colab": {
          "base_uri": "https://localhost:8080/"
        },
        "outputId": "539d474b-1d61-4fad-ed33-315f20b2edf5"
      },
      "source": [
        "%ls /content/MODNet/pretrained/"
      ],
      "execution_count": null,
      "outputs": [
        {
          "output_type": "stream",
          "name": "stdout",
          "text": [
            "checkpoint.pth  README.md\n"
          ]
        }
      ]
    },
    {
      "cell_type": "code",
      "metadata": {
        "colab": {
          "base_uri": "https://localhost:8080/"
        },
        "id": "a9vM8QjbDDVV",
        "outputId": "ffb671f5-93d2-4a1e-d715-19e483e221f2"
      },
      "source": [
        "%cd /content/MODNet\n",
        "import os\n",
        "import torch\n",
        "import torch.nn as nn\n",
        "from torch.autograd import Variable\n",
        "\n",
        "from MODNet.src.models.modnet import MODNet\n",
        "from MODNet.onnx import modnet_onnx\n",
        "\n",
        "\n",
        "# general input\n",
        "input_name = '/content/MODNet/pretrained/checkpoint.pth'\n",
        "# check input arguments\n",
        "if not os.path.exists(input_name):\n",
        "    print('Cannot find checkpoint path: {0}'.format(ckpt_path))\n",
        "    exit()\n",
        "\n",
        "# define model & load checkpoint\n",
        "modnet = modnet_onnx.MODNet(backbone_pretrained=False)\n",
        "\n",
        "# prepare dummy_input\n",
        "batch_size = 1\n",
        "height = 512\n",
        "width = 512\n",
        "\n",
        "# dummy_input: input tensor x. The values in this can be random as long as it is the right type and size\n",
        "if torch.cuda.is_available():\n",
        "  device = torch.device('cuda')\n",
        "  print('using gpu!')\n",
        "  dummy_input = Variable(torch.randn(batch_size, 3, height, width)).cuda()\n",
        "  modnet = nn.DataParallel(modnet).cuda()\n",
        "\n",
        "else:\n",
        "  device = torch.device('cpu')\n",
        "  print('using cpu')\n",
        "  dummy_input = Variable(torch.randn(batch_size, 3, height, width))\n",
        "  modnet = nn.DataParallel(modnet)\n",
        "\n",
        "state_dict = torch.load(input_name, map_location=device)\n",
        "modnet.load_state_dict(state_dict['state_dict'])\n",
        "modnet.eval() # set the model to inference mode\n",
        "\n",
        "if torch.cuda.is_available():\n",
        "  output_name = '/content/MODNet/pretrained/modnet-gpu.onnx'\n",
        "else:\n",
        "  output_name = '/content/MODNet/pretrained/modnet-cpu.onnx'\n",
        "\n",
        "\n",
        "# export to onnx model\n",
        "torch.onnx.export(\n",
        "    modnet.module, dummy_input, output_name, export_params = True, \n",
        "    input_names = ['input'], output_names = ['output'], \n",
        "    dynamic_axes = {'input': {0:'batch_size', 2:'height', 3:'width'}, 'output': {0: 'batch_size', 2: 'height', 3: 'width'}}, opset_version=12)\n",
        "\n",
        "%ls /content/MODNet/pretrained/"
      ],
      "execution_count": null,
      "outputs": [
        {
          "output_type": "stream",
          "name": "stdout",
          "text": [
            "/content/MODNet\n",
            "using cpu\n"
          ]
        },
        {
          "output_type": "stream",
          "name": "stderr",
          "text": [
            "/usr/local/lib/python3.7/dist-packages/torch/nn/functional.py:3103: UserWarning: The default behavior for interpolate/upsample with float scale_factor changed in 1.6.0 to align with other frameworks/libraries, and now uses scale_factor directly, instead of relying on the computed output size. If you wish to restore the old behavior, please set recompute_scale_factor=True. See the documentation of nn.Upsample for details. \n",
            "  warnings.warn(\"The default behavior for interpolate/upsample with float scale_factor changed \"\n"
          ]
        },
        {
          "output_type": "stream",
          "name": "stdout",
          "text": [
            "checkpoint.pth  modnet-cpu.onnx  README.md\n"
          ]
        }
      ]
    },
    {
      "cell_type": "markdown",
      "metadata": {
        "id": "UQr0f_FH9ssu"
      },
      "source": [
        ".onnx is a binary protobuf file which contains both the network structure and parameters of the model"
      ]
    },
    {
      "cell_type": "markdown",
      "metadata": {
        "id": "Usckjm4zaIPU"
      },
      "source": [
        "If generate modnet-gpu.onnx, save modnet-gpu.onnx to gdrive for further TensorRT inference, see details in the current repository/notebooks."
      ]
    },
    {
      "cell_type": "code",
      "metadata": {
        "id": "Q57FWfFLZ0nJ"
      },
      "source": [
        "# !cp /content/MODNet/pretrained/modnet-gpu.onnx /content/drive/MyDrive/"
      ],
      "execution_count": null,
      "outputs": []
    },
    {
      "cell_type": "markdown",
      "metadata": {
        "id": "vUWFxFYN2KbU"
      },
      "source": [
        "### Output of PyTorch and ONNX match test\n",
        "  - the output of PyTorch and ONNX Runtime runs match numerically with the given precision (rtol=1e-03 and atol=1e-05)\n",
        "  - onnx exporter is correct"
      ]
    },
    {
      "cell_type": "code",
      "metadata": {
        "colab": {
          "base_uri": "https://localhost:8080/"
        },
        "id": "Enn0zowX2XSd",
        "outputId": "74b6e74a-938c-4f09-d870-069b9a4eef24"
      },
      "source": [
        "import onnxruntime\n",
        "import numpy as np\n",
        "\n",
        "\n",
        "# Input to the model\n",
        "x = torch.randn(1, 3, 512, 512, requires_grad=True)\n",
        "torch_out = modnet(x)\n",
        "\n",
        "ort_session = onnxruntime.InferenceSession(\"/content/MODNet/pretrained/modnet-cpu.onnx\")\n",
        "\n",
        "def to_numpy(tensor):\n",
        "    return tensor.detach().cpu().numpy() if tensor.requires_grad else tensor.cpu().numpy()\n",
        "\n",
        "# compute ONNX Runtime output prediction\n",
        "ort_inputs = {ort_session.get_inputs()[0].name: to_numpy(x)}\n",
        "ort_outs = ort_session.run(None, ort_inputs)\n",
        "\n",
        "# compare ONNX Runtime and PyTorch results\n",
        "np.testing.assert_allclose(to_numpy(torch_out), ort_outs[0], rtol=1e-03, atol=1e-05)\n",
        "\n",
        "print(\"Exported model has been tested with ONNXRuntime, and the result looks good!\")"
      ],
      "execution_count": null,
      "outputs": [
        {
          "output_type": "stream",
          "name": "stderr",
          "text": [
            "/usr/local/lib/python3.7/dist-packages/torch/nn/functional.py:3103: UserWarning: The default behavior for interpolate/upsample with float scale_factor changed in 1.6.0 to align with other frameworks/libraries, and now uses scale_factor directly, instead of relying on the computed output size. If you wish to restore the old behavior, please set recompute_scale_factor=True. See the documentation of nn.Upsample for details. \n",
            "  warnings.warn(\"The default behavior for interpolate/upsample with float scale_factor changed \"\n"
          ]
        },
        {
          "output_type": "stream",
          "name": "stdout",
          "text": [
            "Exported model has been tested with ONNXRuntime, and the result looks good!\n"
          ]
        }
      ]
    },
    {
      "cell_type": "markdown",
      "metadata": {
        "id": "-usZ1NZWjIe3"
      },
      "source": [
        "## ONNX Runtime inference\n",
        "\n",
        "Use converted checkpoint.onnx for inference"
      ]
    },
    {
      "cell_type": "code",
      "metadata": {
        "colab": {
          "base_uri": "https://localhost:8080/"
        },
        "id": "_r36tSpntt8w",
        "outputId": "72e343d7-c6e6-40b0-d3d7-243af49d4907"
      },
      "source": [
        "import glob\n",
        "import os\n",
        "\n",
        "%cd /content/MODNet/\n",
        "img_name_list = glob.glob('/content/valid_validation/image/' + os.sep + '*')\n",
        "\n",
        "!mkdir -p /content/valid_validation/image/test_run\n",
        "!cp /content/valid_validation/image/* /content/valid_validation/image/test_run"
      ],
      "execution_count": null,
      "outputs": [
        {
          "output_type": "stream",
          "name": "stdout",
          "text": [
            "/content/MODNet\n"
          ]
        }
      ]
    },
    {
      "cell_type": "code",
      "metadata": {
        "id": "f9f8LoebHnd6"
      },
      "source": [
        "import torchvision\n",
        "from torchvision import transforms\n",
        "\n",
        "val_data = \"/content/valid_validation/image\"\n",
        "\n",
        "TRANSFORM_IMG = transforms.Compose([\n",
        "     transforms.Resize((512, 512)),\n",
        "                transforms.ToTensor(),\n",
        "                transforms.Normalize((0.5, 0.5, 0.5), (0.5, 0.5, 0.5))\n",
        "    ])\n",
        "\n",
        "val = torchvision.datasets.ImageFolder(val_data, transform=TRANSFORM_IMG)"
      ],
      "execution_count": null,
      "outputs": []
    },
    {
      "cell_type": "code",
      "metadata": {
        "colab": {
          "base_uri": "https://localhost:8080/",
          "height": 83,
          "referenced_widgets": [
            "3c35a23d6cc04883b23c488d2c848719",
            "9f29f9c2cca24beda5c53364c1d3f8b5",
            "0a6f0a08278c4f01a6de886e35aa8480",
            "9ca79774ec1f4bfbb002abb56d8cd930",
            "668dce15f09f4f308b709ebb35970f0d",
            "70f66e49e7694f24beb672db19039247",
            "314e77f722b44ab7afcd1eeefdadf04b",
            "c081c29c831d4ef69ce95510d2ad450a",
            "acc095c11b2a4bc396f6f3ff8947575e",
            "7e7b8192fcee46c9b024cb60e1294bba",
            "f5c6c9c2ba20456fa8b901300406b12e"
          ]
        },
        "id": "FrYUTHMrGBRc",
        "outputId": "5f8bedc6-4e0f-4f44-8b5c-7351883bbbcc"
      },
      "source": [
        "# ONNX Runtime Inference\n",
        "\n",
        "from torch.utils.data import Dataset, DataLoader\n",
        "\n",
        "import onnxruntime as rt  \n",
        "import time\n",
        "from tqdm.notebook import tqdm\n",
        "\n",
        "n_runs = 50\n",
        "\n",
        "sess_options = rt.SessionOptions()\n",
        "\n",
        "sess_options.intra_op_num_threads = 4\n",
        "sess_options.execution_mode = rt.ExecutionMode.ORT_SEQUENTIAL\n",
        "sess_options.graph_optimization_level = rt.GraphOptimizationLevel.ORT_ENABLE_ALL\n",
        "\n",
        "session = rt.InferenceSession('/content/MODNet/pretrained/modnet-cpu.onnx', sess_options=sess_options)\n",
        "\n",
        "input_name = session.get_inputs()[0].name\n",
        "output_name = session.get_outputs()[0].name\n",
        "\n",
        "dynamic = False\n",
        "if dynamic:\n",
        "  bsize = (1,2,4,8,16,32,64)\n",
        "else:\n",
        "  bsize = (1,)\n",
        "\n",
        "start_full = time.time()\n",
        "for batch_size in bsize:\n",
        "    runtimes = []\n",
        "    for _ in tqdm(range(n_runs)):\n",
        "        dataloader = DataLoader(dataset=val, batch_size=batch_size, shuffle=True, num_workers=2)\n",
        "        batch = next(iter(dataloader))\n",
        "        batch = tuple(t.to('cpu') for t in batch)\n",
        "\n",
        "        start = time.time()\n",
        "        pred = session.run([output_name], {input_name: batch[0].numpy()})[0]\n",
        "        end = time.time()\n",
        "        runtimes.append((end-start)*1000)\n",
        "\n",
        "    print(f\"inference cost for batch_size {batch_size}: {round(sum(runtimes)/len(runtimes), 4)} ms\")\n",
        "\n",
        "end_full = time.time()\n",
        "overall_cost = (end_full - start_full)\n",
        "print(f\"overall inference execution cost: {round(overall_cost, 4)} seconds\")"
      ],
      "execution_count": null,
      "outputs": [
        {
          "output_type": "display_data",
          "data": {
            "application/vnd.jupyter.widget-view+json": {
              "model_id": "3c35a23d6cc04883b23c488d2c848719",
              "version_minor": 0,
              "version_major": 2
            },
            "text/plain": [
              "  0%|          | 0/50 [00:00<?, ?it/s]"
            ]
          },
          "metadata": {}
        },
        {
          "output_type": "stream",
          "name": "stdout",
          "text": [
            "inference cost for batch_size 1: 834.5359 ms\n",
            "overall inference execution cost: 52.8482 seconds\n"
          ]
        }
      ]
    },
    {
      "cell_type": "markdown",
      "metadata": {
        "id": "u3rK2S823gJ1"
      },
      "source": [
        "# Pytorch comparison\n",
        "Use pretrained checkpoint.pth via Pytorch for inference\n",
        "\n",
        "\n"
      ]
    },
    {
      "cell_type": "code",
      "metadata": {
        "colab": {
          "base_uri": "https://localhost:8080/",
          "height": 154,
          "referenced_widgets": [
            "49545564697f4a148b56769eafb13b30",
            "932e4c5e3aee4af1b50e147f1bdb3e56",
            "fa95547276644496b7d856397509017c",
            "ef0e0d49f928430bafc2686432d3420d",
            "d9c6c95e0a3545c09423e10258d9cc76",
            "2eba6ef8d364498b8fed17abb043166e",
            "9968709d72894768b46747200d6280de",
            "833af376521a4eba927b2b2289074240",
            "eeed8f44daa44c1d8735a2547209a1e0",
            "c72dc453cf8f4488997a690bd494bb7a",
            "8d0c3e62698a4e7ca71a581c427b0ed5"
          ]
        },
        "id": "dlDVtHntg5aZ",
        "outputId": "55fd0586-d165-42d9-9710-885ee01b8138"
      },
      "source": [
        "import time\n",
        "from tqdm.notebook import tqdm\n",
        "\n",
        "dynamic = False\n",
        "\n",
        "# load MODNet and pretrained checkpoint\n",
        "input_name = '/content/MODNet/pretrained/checkpoint.pth'\n",
        "# check input arguments\n",
        "if not os.path.exists(input_name):\n",
        "    print('Cannot find checkpoint path: {0}'.format(ckpt_path))\n",
        "    exit()\n",
        "\n",
        "# define model & load checkpoint\n",
        "modnet = modnet_onnx.MODNet(backbone_pretrained=False)\n",
        "\n",
        "if torch.cuda.is_available():\n",
        "  device = torch.device('cuda')\n",
        "  print('using gpu!')\n",
        "  modnet = nn.DataParallel(modnet).cuda()\n",
        "\n",
        "else:\n",
        "  device = torch.device('cpu')\n",
        "  print('using cpu')\n",
        "  modnet = nn.DataParallel(modnet)\n",
        "\n",
        "state_dict = torch.load(input_name, map_location=device)\n",
        "modnet.load_state_dict(state_dict['state_dict'])\n",
        "modnet.eval() # set the model to inference mode\n",
        "\n",
        "if dynamic:\n",
        "  bsize = (1,2,4,8,16,32,64)\n",
        "else:\n",
        "  bsize = (1,)\n",
        "\n",
        "n_runs = 50\n",
        "\n",
        "start_full = time.time()\n",
        "for batch_size in bsize:\n",
        "    runtimes = []\n",
        "    for _ in tqdm(range(n_runs)):\n",
        "        dataloader = DataLoader(dataset=val, batch_size=batch_size, shuffle=True, num_workers=2)\n",
        "        batch = next(iter(dataloader))\n",
        "        batch = tuple(t.to('cpu') for t in batch)\n",
        "\n",
        "        start = time.time()\n",
        "        matte = modnet(batch[0])\n",
        "        end = time.time()\n",
        "        runtimes.append((end-start)*1000)\n",
        "\n",
        "    print(f\"inference cost for batch_size {batch_size}: {round(sum(runtimes)/len(runtimes), 4)}ms\")\n",
        "\n",
        "end_full = time.time()\n",
        "overall_cost = (end_full - start_full)\n",
        "print(f\"overall inference execution cost: {round(overall_cost, 4)} seconds\")"
      ],
      "execution_count": null,
      "outputs": [
        {
          "output_type": "stream",
          "name": "stdout",
          "text": [
            "using cpu\n"
          ]
        },
        {
          "output_type": "display_data",
          "data": {
            "application/vnd.jupyter.widget-view+json": {
              "model_id": "49545564697f4a148b56769eafb13b30",
              "version_minor": 0,
              "version_major": 2
            },
            "text/plain": [
              "  0%|          | 0/50 [00:00<?, ?it/s]"
            ]
          },
          "metadata": {}
        },
        {
          "output_type": "stream",
          "name": "stderr",
          "text": [
            "/usr/local/lib/python3.7/dist-packages/torch/nn/functional.py:3103: UserWarning: The default behavior for interpolate/upsample with float scale_factor changed in 1.6.0 to align with other frameworks/libraries, and now uses scale_factor directly, instead of relying on the computed output size. If you wish to restore the old behavior, please set recompute_scale_factor=True. See the documentation of nn.Upsample for details. \n",
            "  warnings.warn(\"The default behavior for interpolate/upsample with float scale_factor changed \"\n"
          ]
        },
        {
          "output_type": "stream",
          "name": "stdout",
          "text": [
            "inference cost for batch_size 1: 1208.5716ms\n",
            "overall inference execution cost: 74.6324 seconds\n"
          ]
        }
      ]
    },
    {
      "cell_type": "markdown",
      "metadata": {
        "id": "cqni2-P4oNoY"
      },
      "source": [
        "## ONNX Simplifier\n",
        "replaces the redundant operators with their constant outputs to simplify onnx model."
      ]
    },
    {
      "cell_type": "code",
      "metadata": {
        "id": "jTNR1UF31ybV"
      },
      "source": [
        "%cd /content/\n",
        "!pip3 install -U pip && pip3 install onnx-simplifier"
      ],
      "execution_count": null,
      "outputs": []
    },
    {
      "cell_type": "code",
      "metadata": {
        "colab": {
          "base_uri": "https://localhost:8080/"
        },
        "id": "7A-6le-M_1pw",
        "outputId": "2fa69ca1-7f36-4173-da8d-861ab16e1c80"
      },
      "source": [
        "!python3 -m onnxsim /content/MODNet/pretrained/modnet-cpu.onnx /content/MODNet/pretrained/modnet-cpu-simplified.onnx --input-shape 1,3,512,512"
      ],
      "execution_count": null,
      "outputs": [
        {
          "output_type": "stream",
          "name": "stdout",
          "text": [
            "Simplifying...\n",
            "Note: The input shape of the simplified model will be overwritten by the value of '--input-shape' argument. Pass '--dynamic-input-shape' if it is not what you want. Run 'python3 -m onnxsim -h' for details.\n",
            "Checking 0/3...\n",
            "Checking 1/3...\n",
            "Checking 2/3...\n",
            "Ok!\n"
          ]
        }
      ]
    },
    {
      "cell_type": "code",
      "metadata": {
        "colab": {
          "base_uri": "https://localhost:8080/"
        },
        "id": "S6QERFzNzLcn",
        "outputId": "5aec5d0d-a056-421b-b700-55b8fcda716c"
      },
      "source": [
        "!du /content/MODNet/pretrained/modnet-cpu.onnx"
      ],
      "execution_count": null,
      "outputs": [
        {
          "output_type": "stream",
          "name": "stdout",
          "text": [
            "25284\t/content/MODNet/pretrained/modnet-cpu.onnx\n"
          ]
        }
      ]
    },
    {
      "cell_type": "code",
      "metadata": {
        "colab": {
          "base_uri": "https://localhost:8080/"
        },
        "id": "phYkYlgWzO4X",
        "outputId": "e0e919cd-b28c-490e-b757-2789a4471243"
      },
      "source": [
        "!du /content/MODNet/pretrained/modnet-cpu-simplified.onnx"
      ],
      "execution_count": null,
      "outputs": [
        {
          "output_type": "stream",
          "name": "stdout",
          "text": [
            "25276\t/content/MODNet/pretrained/modnet-cpu-simplified.onnx\n"
          ]
        }
      ]
    },
    {
      "cell_type": "code",
      "metadata": {
        "colab": {
          "base_uri": "https://localhost:8080/",
          "height": 83,
          "referenced_widgets": [
            "b427fb973ecc4fe283a54e51f739f02a",
            "bb53692044494e2f9205aef29ed41471",
            "77804f1d1dac44318f845eaaaea02f7d",
            "430e11d253d04480bab3155d7f1a28b8",
            "5be0106a12d1442faa34752fae511830",
            "adc54b2251d346ed8dcca7325870f94b",
            "b2ee405e7a90400fbd686286c9597e1c",
            "3ae4317066624afd806a40af55e52761",
            "fa37aae7600a4bca81a607b4643d9008",
            "f71ae687c786437fba0f1d9c47f7d0b8",
            "6b3c53a243984413820259a7d80e6883"
          ]
        },
        "id": "iyCN_DWK109c",
        "outputId": "1a3d13f7-b2ce-4bd7-b74b-bbadfa91b0db"
      },
      "source": [
        "# ONNX Runtime Inference for simplified: modnet-cpu-simplified.onnx\n",
        "\n",
        "from torch.utils.data import Dataset, DataLoader\n",
        "\n",
        "import onnxruntime as rt  \n",
        "import time\n",
        "from tqdm.notebook import tqdm\n",
        "\n",
        "n_runs = 50\n",
        "\n",
        "sess_options = rt.SessionOptions()\n",
        "\n",
        "sess_options.intra_op_num_threads = 4\n",
        "sess_options.execution_mode = rt.ExecutionMode.ORT_SEQUENTIAL\n",
        "sess_options.graph_optimization_level = rt.GraphOptimizationLevel.ORT_ENABLE_ALL\n",
        "\n",
        "session = rt.InferenceSession('/content/MODNet/pretrained/modnet-cpu-simplified.onnx', sess_options=sess_options)\n",
        "\n",
        "input_name = session.get_inputs()[0].name\n",
        "output_name = session.get_outputs()[0].name\n",
        "\n",
        "dynamic = False\n",
        "if dynamic:\n",
        "  bsize = (1,2,4,8,16,32,64)\n",
        "else:\n",
        "  bsize = (1,)\n",
        "\n",
        "start_full = time.time()\n",
        "for batch_size in bsize:\n",
        "    runtimes = []\n",
        "    for _ in tqdm(range(n_runs)):\n",
        "        dataloader = DataLoader(dataset=val, batch_size=batch_size, shuffle=True, num_workers=2)\n",
        "        batch = next(iter(dataloader))\n",
        "        batch = tuple(t.to('cpu') for t in batch)\n",
        "\n",
        "        start = time.time()\n",
        "        pred = session.run([output_name], {input_name: batch[0].numpy()})[0]\n",
        "        end = time.time()\n",
        "        runtimes.append((end-start)*1000)\n",
        "\n",
        "        #print(pred.shapredictions, bitmask = torch.max(pred_torch, 1)pe)\n",
        "    print(f\"inference cost for batch_size {batch_size}: {round(sum(runtimes)/len(runtimes), 4)} ms\")\n",
        "\n",
        "end_full = time.time()\n",
        "overall_cost = (end_full - start_full)\n",
        "print(f\"overall inference execution cost: {round(overall_cost, 4)} seconds\")"
      ],
      "execution_count": null,
      "outputs": [
        {
          "output_type": "display_data",
          "data": {
            "application/vnd.jupyter.widget-view+json": {
              "model_id": "b427fb973ecc4fe283a54e51f739f02a",
              "version_minor": 0,
              "version_major": 2
            },
            "text/plain": [
              "  0%|          | 0/50 [00:00<?, ?it/s]"
            ]
          },
          "metadata": {}
        },
        {
          "output_type": "stream",
          "name": "stdout",
          "text": [
            "inference cost for batch_size 1: 824.7673 ms\n",
            "overall inference execution cost: 54.7681 seconds\n"
          ]
        }
      ]
    },
    {
      "cell_type": "markdown",
      "metadata": {
        "id": "0L-dog1Wufzj"
      },
      "source": [
        "## Model Visualization via Netron"
      ]
    },
    {
      "cell_type": "code",
      "metadata": {
        "colab": {
          "base_uri": "https://localhost:8080/"
        },
        "id": "ITZ25KWstvlF",
        "outputId": "33906e03-bfca-4ec5-fe99-5f149f069224"
      },
      "source": [
        "!pip install -q netron"
      ],
      "execution_count": null,
      "outputs": [
        {
          "output_type": "stream",
          "name": "stdout",
          "text": [
            "\u001b[?25l\r\u001b[K     |▎                               | 10 kB 19.7 MB/s eta 0:00:01\r\u001b[K     |▌                               | 20 kB 12.5 MB/s eta 0:00:01\r\u001b[K     |▊                               | 30 kB 9.6 MB/s eta 0:00:01\r\u001b[K     |█                               | 40 kB 8.5 MB/s eta 0:00:01\r\u001b[K     |█▎                              | 51 kB 5.0 MB/s eta 0:00:01\r\u001b[K     |█▌                              | 61 kB 5.6 MB/s eta 0:00:01\r\u001b[K     |█▊                              | 71 kB 5.6 MB/s eta 0:00:01\r\u001b[K     |██                              | 81 kB 6.2 MB/s eta 0:00:01\r\u001b[K     |██▎                             | 92 kB 4.7 MB/s eta 0:00:01\r\u001b[K     |██▌                             | 102 kB 5.1 MB/s eta 0:00:01\r\u001b[K     |██▊                             | 112 kB 5.1 MB/s eta 0:00:01\r\u001b[K     |███                             | 122 kB 5.1 MB/s eta 0:00:01\r\u001b[K     |███▎                            | 133 kB 5.1 MB/s eta 0:00:01\r\u001b[K     |███▌                            | 143 kB 5.1 MB/s eta 0:00:01\r\u001b[K     |███▊                            | 153 kB 5.1 MB/s eta 0:00:01\r\u001b[K     |████                            | 163 kB 5.1 MB/s eta 0:00:01\r\u001b[K     |████▎                           | 174 kB 5.1 MB/s eta 0:00:01\r\u001b[K     |████▌                           | 184 kB 5.1 MB/s eta 0:00:01\r\u001b[K     |████▊                           | 194 kB 5.1 MB/s eta 0:00:01\r\u001b[K     |█████                           | 204 kB 5.1 MB/s eta 0:00:01\r\u001b[K     |█████▎                          | 215 kB 5.1 MB/s eta 0:00:01\r\u001b[K     |█████▌                          | 225 kB 5.1 MB/s eta 0:00:01\r\u001b[K     |█████▊                          | 235 kB 5.1 MB/s eta 0:00:01\r\u001b[K     |██████                          | 245 kB 5.1 MB/s eta 0:00:01\r\u001b[K     |██████▎                         | 256 kB 5.1 MB/s eta 0:00:01\r\u001b[K     |██████▌                         | 266 kB 5.1 MB/s eta 0:00:01\r\u001b[K     |██████▉                         | 276 kB 5.1 MB/s eta 0:00:01\r\u001b[K     |███████                         | 286 kB 5.1 MB/s eta 0:00:01\r\u001b[K     |███████▎                        | 296 kB 5.1 MB/s eta 0:00:01\r\u001b[K     |███████▌                        | 307 kB 5.1 MB/s eta 0:00:01\r\u001b[K     |███████▉                        | 317 kB 5.1 MB/s eta 0:00:01\r\u001b[K     |████████                        | 327 kB 5.1 MB/s eta 0:00:01\r\u001b[K     |████████▎                       | 337 kB 5.1 MB/s eta 0:00:01\r\u001b[K     |████████▌                       | 348 kB 5.1 MB/s eta 0:00:01\r\u001b[K     |████████▉                       | 358 kB 5.1 MB/s eta 0:00:01\r\u001b[K     |█████████                       | 368 kB 5.1 MB/s eta 0:00:01\r\u001b[K     |█████████▎                      | 378 kB 5.1 MB/s eta 0:00:01\r\u001b[K     |█████████▌                      | 389 kB 5.1 MB/s eta 0:00:01\r\u001b[K     |█████████▉                      | 399 kB 5.1 MB/s eta 0:00:01\r\u001b[K     |██████████                      | 409 kB 5.1 MB/s eta 0:00:01\r\u001b[K     |██████████▎                     | 419 kB 5.1 MB/s eta 0:00:01\r\u001b[K     |██████████▌                     | 430 kB 5.1 MB/s eta 0:00:01\r\u001b[K     |██████████▉                     | 440 kB 5.1 MB/s eta 0:00:01\r\u001b[K     |███████████                     | 450 kB 5.1 MB/s eta 0:00:01\r\u001b[K     |███████████▎                    | 460 kB 5.1 MB/s eta 0:00:01\r\u001b[K     |███████████▌                    | 471 kB 5.1 MB/s eta 0:00:01\r\u001b[K     |███████████▉                    | 481 kB 5.1 MB/s eta 0:00:01\r\u001b[K     |████████████                    | 491 kB 5.1 MB/s eta 0:00:01\r\u001b[K     |████████████▎                   | 501 kB 5.1 MB/s eta 0:00:01\r\u001b[K     |████████████▋                   | 512 kB 5.1 MB/s eta 0:00:01\r\u001b[K     |████████████▉                   | 522 kB 5.1 MB/s eta 0:00:01\r\u001b[K     |█████████████                   | 532 kB 5.1 MB/s eta 0:00:01\r\u001b[K     |█████████████▎                  | 542 kB 5.1 MB/s eta 0:00:01\r\u001b[K     |█████████████▋                  | 552 kB 5.1 MB/s eta 0:00:01\r\u001b[K     |█████████████▉                  | 563 kB 5.1 MB/s eta 0:00:01\r\u001b[K     |██████████████                  | 573 kB 5.1 MB/s eta 0:00:01\r\u001b[K     |██████████████▎                 | 583 kB 5.1 MB/s eta 0:00:01\r\u001b[K     |██████████████▋                 | 593 kB 5.1 MB/s eta 0:00:01\r\u001b[K     |██████████████▉                 | 604 kB 5.1 MB/s eta 0:00:01\r\u001b[K     |███████████████                 | 614 kB 5.1 MB/s eta 0:00:01\r\u001b[K     |███████████████▎                | 624 kB 5.1 MB/s eta 0:00:01\r\u001b[K     |███████████████▋                | 634 kB 5.1 MB/s eta 0:00:01\r\u001b[K     |███████████████▉                | 645 kB 5.1 MB/s eta 0:00:01\r\u001b[K     |████████████████                | 655 kB 5.1 MB/s eta 0:00:01\r\u001b[K     |████████████████▎               | 665 kB 5.1 MB/s eta 0:00:01\r\u001b[K     |████████████████▋               | 675 kB 5.1 MB/s eta 0:00:01\r\u001b[K     |████████████████▉               | 686 kB 5.1 MB/s eta 0:00:01\r\u001b[K     |█████████████████               | 696 kB 5.1 MB/s eta 0:00:01\r\u001b[K     |█████████████████▎              | 706 kB 5.1 MB/s eta 0:00:01\r\u001b[K     |█████████████████▋              | 716 kB 5.1 MB/s eta 0:00:01\r\u001b[K     |█████████████████▉              | 727 kB 5.1 MB/s eta 0:00:01\r\u001b[K     |██████████████████              | 737 kB 5.1 MB/s eta 0:00:01\r\u001b[K     |██████████████████▎             | 747 kB 5.1 MB/s eta 0:00:01\r\u001b[K     |██████████████████▋             | 757 kB 5.1 MB/s eta 0:00:01\r\u001b[K     |██████████████████▉             | 768 kB 5.1 MB/s eta 0:00:01\r\u001b[K     |███████████████████             | 778 kB 5.1 MB/s eta 0:00:01\r\u001b[K     |███████████████████▍            | 788 kB 5.1 MB/s eta 0:00:01\r\u001b[K     |███████████████████▋            | 798 kB 5.1 MB/s eta 0:00:01\r\u001b[K     |███████████████████▉            | 808 kB 5.1 MB/s eta 0:00:01\r\u001b[K     |████████████████████            | 819 kB 5.1 MB/s eta 0:00:01\r\u001b[K     |████████████████████▍           | 829 kB 5.1 MB/s eta 0:00:01\r\u001b[K     |████████████████████▋           | 839 kB 5.1 MB/s eta 0:00:01\r\u001b[K     |████████████████████▉           | 849 kB 5.1 MB/s eta 0:00:01\r\u001b[K     |█████████████████████           | 860 kB 5.1 MB/s eta 0:00:01\r\u001b[K     |█████████████████████▍          | 870 kB 5.1 MB/s eta 0:00:01\r\u001b[K     |█████████████████████▋          | 880 kB 5.1 MB/s eta 0:00:01\r\u001b[K     |█████████████████████▉          | 890 kB 5.1 MB/s eta 0:00:01\r\u001b[K     |██████████████████████          | 901 kB 5.1 MB/s eta 0:00:01\r\u001b[K     |██████████████████████▍         | 911 kB 5.1 MB/s eta 0:00:01\r\u001b[K     |██████████████████████▋         | 921 kB 5.1 MB/s eta 0:00:01\r\u001b[K     |██████████████████████▉         | 931 kB 5.1 MB/s eta 0:00:01\r\u001b[K     |███████████████████████         | 942 kB 5.1 MB/s eta 0:00:01\r\u001b[K     |███████████████████████▍        | 952 kB 5.1 MB/s eta 0:00:01\r\u001b[K     |███████████████████████▋        | 962 kB 5.1 MB/s eta 0:00:01\r\u001b[K     |███████████████████████▉        | 972 kB 5.1 MB/s eta 0:00:01\r\u001b[K     |████████████████████████        | 983 kB 5.1 MB/s eta 0:00:01\r\u001b[K     |████████████████████████▍       | 993 kB 5.1 MB/s eta 0:00:01\r\u001b[K     |████████████████████████▋       | 1.0 MB 5.1 MB/s eta 0:00:01\r\u001b[K     |████████████████████████▉       | 1.0 MB 5.1 MB/s eta 0:00:01\r\u001b[K     |█████████████████████████▏      | 1.0 MB 5.1 MB/s eta 0:00:01\r\u001b[K     |█████████████████████████▍      | 1.0 MB 5.1 MB/s eta 0:00:01\r\u001b[K     |█████████████████████████▋      | 1.0 MB 5.1 MB/s eta 0:00:01\r\u001b[K     |█████████████████████████▉      | 1.1 MB 5.1 MB/s eta 0:00:01\r\u001b[K     |██████████████████████████▏     | 1.1 MB 5.1 MB/s eta 0:00:01\r\u001b[K     |██████████████████████████▍     | 1.1 MB 5.1 MB/s eta 0:00:01\r\u001b[K     |██████████████████████████▋     | 1.1 MB 5.1 MB/s eta 0:00:01\r\u001b[K     |██████████████████████████▉     | 1.1 MB 5.1 MB/s eta 0:00:01\r\u001b[K     |███████████████████████████▏    | 1.1 MB 5.1 MB/s eta 0:00:01\r\u001b[K     |███████████████████████████▍    | 1.1 MB 5.1 MB/s eta 0:00:01\r\u001b[K     |███████████████████████████▋    | 1.1 MB 5.1 MB/s eta 0:00:01\r\u001b[K     |███████████████████████████▉    | 1.1 MB 5.1 MB/s eta 0:00:01\r\u001b[K     |████████████████████████████▏   | 1.1 MB 5.1 MB/s eta 0:00:01\r\u001b[K     |████████████████████████████▍   | 1.2 MB 5.1 MB/s eta 0:00:01\r\u001b[K     |████████████████████████████▋   | 1.2 MB 5.1 MB/s eta 0:00:01\r\u001b[K     |████████████████████████████▉   | 1.2 MB 5.1 MB/s eta 0:00:01\r\u001b[K     |█████████████████████████████▏  | 1.2 MB 5.1 MB/s eta 0:00:01\r\u001b[K     |█████████████████████████████▍  | 1.2 MB 5.1 MB/s eta 0:00:01\r\u001b[K     |█████████████████████████████▋  | 1.2 MB 5.1 MB/s eta 0:00:01\r\u001b[K     |█████████████████████████████▉  | 1.2 MB 5.1 MB/s eta 0:00:01\r\u001b[K     |██████████████████████████████▏ | 1.2 MB 5.1 MB/s eta 0:00:01\r\u001b[K     |██████████████████████████████▍ | 1.2 MB 5.1 MB/s eta 0:00:01\r\u001b[K     |██████████████████████████████▋ | 1.2 MB 5.1 MB/s eta 0:00:01\r\u001b[K     |██████████████████████████████▉ | 1.3 MB 5.1 MB/s eta 0:00:01\r\u001b[K     |███████████████████████████████▏| 1.3 MB 5.1 MB/s eta 0:00:01\r\u001b[K     |███████████████████████████████▍| 1.3 MB 5.1 MB/s eta 0:00:01\r\u001b[K     |███████████████████████████████▋| 1.3 MB 5.1 MB/s eta 0:00:01\r\u001b[K     |████████████████████████████████| 1.3 MB 5.1 MB/s eta 0:00:01\r\u001b[K     |████████████████████████████████| 1.3 MB 5.1 MB/s \n",
            "\u001b[33mWARNING: Running pip as the 'root' user can result in broken permissions and conflicting behaviour with the system package manager. It is recommended to use a virtual environment instead: https://pip.pypa.io/warnings/venv\u001b[0m\n",
            "\u001b[?25h"
          ]
        }
      ]
    },
    {
      "cell_type": "code",
      "metadata": {
        "id": "sCxWb7cfR4xN",
        "colab": {
          "base_uri": "https://localhost:8080/",
          "height": 821
        },
        "outputId": "aa23b848-181d-4d3c-bfff-f989c98bbd72"
      },
      "source": [
        "import netron\n",
        "import portpicker\n",
        "from google.colab import output\n",
        "\n",
        "port = portpicker.pick_unused_port()\n",
        "\n",
        "# Read the model file and start the netron browser.\n",
        "with output.temporary():\n",
        "  netron.start('/content/MODNet/pretrained/modnet-cpu.onnx', address=port, browse=True)\n",
        "\n",
        "output.serve_kernel_port_as_iframe(port, height='800')"
      ],
      "execution_count": null,
      "outputs": [
        {
          "output_type": "display_data",
          "data": {
            "application/javascript": [
              "(async (port, path, width, height, cache, element) => {\n",
              "    if (!google.colab.kernel.accessAllowed && !cache) {\n",
              "      return;\n",
              "    }\n",
              "    element.appendChild(document.createTextNode(''));\n",
              "    const url = await google.colab.kernel.proxyPort(port, {cache});\n",
              "    const iframe = document.createElement('iframe');\n",
              "    iframe.src = new URL(path, url).toString();\n",
              "    iframe.height = height;\n",
              "    iframe.width = width;\n",
              "    iframe.style.border = 0;\n",
              "    element.appendChild(iframe);\n",
              "  })(18286, \"/\", \"100%\", \"800\", false, window.element)"
            ],
            "text/plain": [
              "<IPython.core.display.Javascript object>"
            ]
          },
          "metadata": {}
        }
      ]
    },
    {
      "cell_type": "code",
      "metadata": {
        "colab": {
          "base_uri": "https://localhost:8080/",
          "height": 821
        },
        "id": "wwFtwVlg1tfm",
        "outputId": "46cbab8b-10cd-4bc9-92c4-c53e544eae44"
      },
      "source": [
        "import netron\n",
        "import portpicker\n",
        "from google.colab import output\n",
        "\n",
        "port = portpicker.pick_unused_port()\n",
        "\n",
        "# Read the model file and start the netron browser.\n",
        "with output.temporary():\n",
        "  netron.start('/content/MODNet/pretrained/modnet-cpu-simplified.onnx', address=port, browse=True)\n",
        "\n",
        "output.serve_kernel_port_as_iframe(port, height='800')"
      ],
      "execution_count": null,
      "outputs": [
        {
          "output_type": "display_data",
          "data": {
            "application/javascript": [
              "(async (port, path, width, height, cache, element) => {\n",
              "    if (!google.colab.kernel.accessAllowed && !cache) {\n",
              "      return;\n",
              "    }\n",
              "    element.appendChild(document.createTextNode(''));\n",
              "    const url = await google.colab.kernel.proxyPort(port, {cache});\n",
              "    const iframe = document.createElement('iframe');\n",
              "    iframe.src = new URL(path, url).toString();\n",
              "    iframe.height = height;\n",
              "    iframe.width = width;\n",
              "    iframe.style.border = 0;\n",
              "    element.appendChild(iframe);\n",
              "  })(16453, \"/\", \"100%\", \"800\", false, window.element)"
            ],
            "text/plain": [
              "<IPython.core.display.Javascript object>"
            ]
          },
          "metadata": {}
        }
      ]
    },
    {
      "cell_type": "code",
      "metadata": {
        "id": "CTYUDtDs15cl"
      },
      "source": [
        ""
      ],
      "execution_count": null,
      "outputs": []
    }
  ]
}