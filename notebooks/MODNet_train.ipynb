{
  "nbformat": 4,
  "nbformat_minor": 0,
  "metadata": {
    "colab": {
      "name": "MODNet_train.ipynb",
      "provenance": [],
      "collapsed_sections": [],
      "include_colab_link": true
    },
    "kernelspec": {
      "display_name": "Python 3",
      "name": "python3"
    },
    "language_info": {
      "name": "python"
    },
    "accelerator": "GPU"
  },
  "cells": [
    {
      "cell_type": "markdown",
      "metadata": {
        "id": "view-in-github",
        "colab_type": "text"
      },
      "source": [
        "<a href=\"https://colab.research.google.com/github/peace-and-harmony/image-matting/blob/main/notebooks/MODNet_train.ipynb\" target=\"_parent\"><img src=\"https://colab.research.google.com/assets/colab-badge.svg\" alt=\"Open In Colab\"/></a>"
      ]
    },
    {
      "cell_type": "markdown",
      "metadata": {
        "id": "e6JmR86Jyzad"
      },
      "source": [
        "# MODNet training notebook"
      ]
    },
    {
      "cell_type": "code",
      "metadata": {
        "colab": {
          "base_uri": "https://localhost:8080/"
        },
        "id": "e0cdO0zGNpgj",
        "outputId": "43a09211-8248-44c8-bb6f-9a6e57b59c48"
      },
      "source": [
        "!nvcc --version\n",
        "!nvidia-smi"
      ],
      "execution_count": 1,
      "outputs": [
        {
          "output_type": "stream",
          "name": "stdout",
          "text": [
            "nvcc: NVIDIA (R) Cuda compiler driver\n",
            "Copyright (c) 2005-2020 NVIDIA Corporation\n",
            "Built on Mon_Oct_12_20:09:46_PDT_2020\n",
            "Cuda compilation tools, release 11.1, V11.1.105\n",
            "Build cuda_11.1.TC455_06.29190527_0\n",
            "Fri Sep 24 02:35:39 2021       \n",
            "+-----------------------------------------------------------------------------+\n",
            "| NVIDIA-SMI 470.63.01    Driver Version: 460.32.03    CUDA Version: 11.2     |\n",
            "|-------------------------------+----------------------+----------------------+\n",
            "| GPU  Name        Persistence-M| Bus-Id        Disp.A | Volatile Uncorr. ECC |\n",
            "| Fan  Temp  Perf  Pwr:Usage/Cap|         Memory-Usage | GPU-Util  Compute M. |\n",
            "|                               |                      |               MIG M. |\n",
            "|===============================+======================+======================|\n",
            "|   0  Tesla T4            Off  | 00000000:00:04.0 Off |                    0 |\n",
            "| N/A   41C    P8     9W /  70W |      0MiB / 15109MiB |      0%      Default |\n",
            "|                               |                      |                  N/A |\n",
            "+-------------------------------+----------------------+----------------------+\n",
            "                                                                               \n",
            "+-----------------------------------------------------------------------------+\n",
            "| Processes:                                                                  |\n",
            "|  GPU   GI   CI        PID   Type   Process name                  GPU Memory |\n",
            "|        ID   ID                                                   Usage      |\n",
            "|=============================================================================|\n",
            "|  No running processes found                                                 |\n",
            "+-----------------------------------------------------------------------------+\n"
          ]
        }
      ]
    },
    {
      "cell_type": "code",
      "metadata": {
        "id": "cYWlLBmV_jhS",
        "colab": {
          "base_uri": "https://localhost:8080/"
        },
        "outputId": "c672dbb9-c079-435f-fc76-1ed86bd785db"
      },
      "source": [
        "from google.colab import drive\n",
        "drive.mount('/content/drive', force_remount=True)"
      ],
      "execution_count": 2,
      "outputs": [
        {
          "output_type": "stream",
          "name": "stdout",
          "text": [
            "Mounted at /content/drive\n"
          ]
        }
      ]
    },
    {
      "cell_type": "markdown",
      "metadata": {
        "id": "DvLZIZmd00dO"
      },
      "source": [
        "# Clone git repos"
      ]
    },
    {
      "cell_type": "code",
      "metadata": {
        "id": "KnwV3gcSrcXI"
      },
      "source": [
        "%%capture\n",
        "!git clone https://github.com/peace-and-harmony/image-matting.git\n",
        "!git clone https://github.com/lnugraha/trimap_generator.git\n",
        "!git clone https://github.com/ZHKKKe/MODNet.git"
      ],
      "execution_count": 33,
      "outputs": []
    },
    {
      "cell_type": "markdown",
      "metadata": {
        "id": "eBw9ENB-HSoA"
      },
      "source": [
        "# Data preparation"
      ]
    },
    {
      "cell_type": "markdown",
      "metadata": {
        "id": "_OvzFqoHmXIP"
      },
      "source": [
        "### Load data"
      ]
    },
    {
      "cell_type": "code",
      "metadata": {
        "id": "JiJ9LmPRmWoY"
      },
      "source": [
        "# Kaggle dataset annotated\n",
        "# Load your cutomized training data\n",
        "!cp /content/drive/MyDrive/clothing-alt.tar.gz /content\n",
        "!tar -xf clothing-alt.tar.gz"
      ],
      "execution_count": 4,
      "outputs": []
    },
    {
      "cell_type": "code",
      "metadata": {
        "colab": {
          "base_uri": "https://localhost:8080/"
        },
        "id": "XpJJEQzGZZV9",
        "outputId": "61286743-ee29-4b09-820a-02e94cf418de"
      },
      "source": [
        "%cd /content/\n",
        "%ls"
      ],
      "execution_count": 5,
      "outputs": [
        {
          "output_type": "stream",
          "name": "stdout",
          "text": [
            "/content\n",
            "\u001b[0m\u001b[01;34mclothing-alt\u001b[0m/                       \u001b[01;34mimage-matting\u001b[0m/  \u001b[01;34mtrimap_generator\u001b[0m/\n",
            "clothing-alt-annotated-v.07.tar.gz  \u001b[01;34mMODNet\u001b[0m/\n",
            "\u001b[01;34mdrive\u001b[0m/                              \u001b[01;34msample_data\u001b[0m/\n"
          ]
        }
      ]
    },
    {
      "cell_type": "markdown",
      "metadata": {
        "id": "VfqSvvXYXeb3"
      },
      "source": [
        "**Note** A round 5.9 K traing samples were used to train the current model."
      ]
    },
    {
      "cell_type": "code",
      "metadata": {
        "colab": {
          "base_uri": "https://localhost:8080/"
        },
        "id": "7RVMAUeDaSYE",
        "outputId": "b811ea32-bb2d-4915-fbe3-c82d36989f84"
      },
      "source": [
        "%ls clothing-alt/"
      ],
      "execution_count": 6,
      "outputs": [
        {
          "output_type": "stream",
          "name": "stdout",
          "text": [
            "\u001b[0m\u001b[01;34mimages\u001b[0m/  \u001b[01;34mmasks\u001b[0m/\n"
          ]
        }
      ]
    },
    {
      "cell_type": "markdown",
      "metadata": {
        "id": "WJsGz8HSgsZQ"
      },
      "source": [
        "# Train from scratch"
      ]
    },
    {
      "cell_type": "code",
      "metadata": {
        "id": "sJh8-1J1DrsR",
        "colab": {
          "base_uri": "https://localhost:8080/"
        },
        "outputId": "bed7e008-050b-49f3-b17b-e56674706f41"
      },
      "source": [
        "%cd /content/\n",
        "!cp /content/image-matting/scripts/modent_train.py ."
      ],
      "execution_count": 34,
      "outputs": [
        {
          "output_type": "stream",
          "name": "stdout",
          "text": [
            "/content\n"
          ]
        }
      ]
    },
    {
      "cell_type": "code",
      "metadata": {
        "id": "h7YCU4HR8Kza"
      },
      "source": [
        "# --path the directory which will store the training logs and model weights\n",
        "# --trainpath the path for training samples which should includign sub-directories of original images and corresponding masks.\n",
        "!python modent_train.py --path /content/drive/MyDrive/modnet --trainpath /content/clothing-alt/"
      ],
      "execution_count": null,
      "outputs": []
    },
    {
      "cell_type": "markdown",
      "metadata": {
        "id": "mqjxZuaEABZ2"
      },
      "source": [
        "# Tensorboard to check the loss vs epoches"
      ]
    },
    {
      "cell_type": "code",
      "metadata": {
        "id": "BEmdJ6XraRyB"
      },
      "source": [
        "%load_ext tensorboard"
      ],
      "execution_count": null,
      "outputs": []
    },
    {
      "cell_type": "code",
      "metadata": {
        "id": "bcEWAWm6Z8Nu"
      },
      "source": [
        "%tensorboard --logdir /content/drive/MyDrive/modnet/logs/"
      ],
      "execution_count": null,
      "outputs": []
    }
  ]
}